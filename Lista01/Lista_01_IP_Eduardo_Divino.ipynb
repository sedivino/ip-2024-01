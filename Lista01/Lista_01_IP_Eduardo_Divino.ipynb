{
  "cells": [
    {
      "cell_type": "markdown",
      "metadata": {
        "id": "IAeox3ZVJ5Ix"
      },
      "source": [
        "// Questão 01 - Aprovado ou Reprova\n",
        "\n",
        "\tDigite as três notas do aluno: n1 n2 n3\n",
        "\n",
        "// Calculando a média\n",
        "\n",
        "\tx = (n1+n2+n3)/3\n",
        "\n",
        "// Resultado\n",
        "\n",
        "\tif\n",
        "\t\tx >= 6,0\n",
        "\t\t\tprint(A média é: x)\n",
        "\t\t\tprint(\"APROVADO\")\n",
        "\telse\n",
        "\t\tprint (A média é: x)\n",
        "\t\tprint(\"REPROVADO\")\n",
        "\n",
        "//"
      ]
    },
    {
      "cell_type": "markdown",
      "metadata": {
        "id": "7KQYOhEtKiGQ"
      },
      "source": [
        "// Questão 02 - Arrecadação de Jogos\n",
        "\n",
        "    pp = 1 // preço da categoria populular\n",
        "    pg = 5 // preço da categoria geral\n",
        "    pa = 10 // preço da categoria arquibancada\n",
        "    pc = 20 // preço da categoria cadeira\n",
        "\n",
        "\n",
        "    Digite a quantidade de jogos:\n",
        "\n",
        "    n = 0\n",
        "\n",
        "    While(n < quantidadedejogos)\n",
        "\n",
        "      Digite o público total do jogo de futebol:\n",
        "\n",
        "      Digite a porcentagem de pessoas na categoria popular:\n",
        "\n",
        "      Digite a porcentagem de pessoas na categoria geral:\n",
        "\n",
        "      Digite a porcentagem de pessoas na categoria arquibancada:\n",
        "\n",
        "      Digite a porcentagem de pessoas na categoria cadeiras:\n",
        "\n",
        "\n",
        "// Calculando a quantidade de pessoas\n",
        "\n",
        "    np = pt*ct/100\n",
        "    ng = pt*cg/100\n",
        "    na = pt*ca/100\n",
        "    nc = pt*cc/100\n",
        "\n",
        "// Calculando a renda de cada categoria\n",
        "\n",
        "    rp = np*pp\n",
        "    rg = ng*pg\n",
        "    ra = na*pa\n",
        "    rc = nc*pc\n",
        "\n",
        "// Calculando a renda total do jogo\n",
        "\n",
        "    rt = rp+rg+ra+rc\n",
        "\n",
        "    n = n+1\n",
        "\n",
        "imprima(A renda do jogo é: rt)\n"
      ]
    },
    {
      "cell_type": "markdown",
      "metadata": {
        "id": "NXyoqL9HULeP"
      },
      "source": [
        "// Questão 3 - Número concatenado\n",
        "\n",
        "// Declaração das variáveis\n",
        "    \n",
        "    inteiro n1, n2, n3, numeroConcatenado, quadrado\n",
        "\n",
        "// Entrada de dados\n",
        "    \n",
        "    Escreva(\"Digite o primeiro número (centena): \")\n",
        "    Leia(n1)\n",
        "\n",
        "    Escreva(\"Digite o segundo número (dezena): \")\n",
        "    Leia(n2)\n",
        "\n",
        "    Escreva(\"Digite o terceiro número (unidade): \")\n",
        "    Leia(n3)\n",
        "    \n",
        "  // Verificação de dígitos inválidos\n",
        "    \n",
        "    Se (n1 < 0 ou n1 > 9 ou n2 < 0 ou n2 > 9 ou n3 < 0 ou n3 > 9) Então\n",
        "        Escreva(\"DIGITO INVALIDO\")\n",
        "    \n",
        "    Senão\n",
        "    // Cálculo da concatenação\n",
        "        \n",
        "        numeroConcatenado <- n1 * 100 + n2 * 10 + n3\n",
        "        \n",
        "    // Verificação de zeros à esquerda\n",
        "        \n",
        "       Se (n1 = 0 e n2 = 0 e n3 = 0) Então\n",
        "            Escreva(\"0\")\n",
        "        \n",
        "        Senão\n",
        "            Escreva(numeroConcatenado)\n",
        "            \n",
        "  // Cálculo do quadrado\n",
        "        quadrado <- numeroConcatenado * numeroConcatenado\n",
        "        Escreva(\"O quadrado do número é: \", quadrado)\n",
        "\n",
        "\n",
        "\n"
      ]
    },
    {
      "cell_type": "markdown",
      "metadata": {
        "id": "I6RTvgqtd7d8"
      },
      "source": [
        "// Questão 4 - Algoritmo CalculoContaEnergia\n",
        "\n",
        "// Declaração das variáveis\n",
        "    \n",
        "    real salarioMinimo, valorPorKW, valorTotalSemDesconto, valorTotalComDesconto\n",
        "    \n",
        "    inteiro kWConsumidos\n",
        "    \n",
        "// Entrada de dados\n",
        "\n",
        "    Escreva(\"Digite o valor do salário mínimo: \")\n",
        "    Leia(salarioMinimo)\n",
        "    Escreva(\"Digite a quantidade de kW consumidos pela residência: \")\n",
        "    Leia(kWConsumidos)\n",
        "    \n",
        "// Cálculo do valor por kW\n",
        "\n",
        "    valorPorKW <- (salarioMinimo * 0.7) / 100\n",
        "    \n",
        "// Cálculo do valor total sem desconto\n",
        "\n",
        "    valorTotalSemDesconto <- valorPorKW * kWConsumidos\n",
        "    \n",
        "// Cálculo do valor total com desconto de 10%\n",
        "\n",
        "    valorTotalComDesconto <- valorTotalSemDesconto * 0.9\n",
        "    \n",
        "// Saída de dados\n",
        "\n",
        "    Escreva(\"O valor em reais de cada kW é: \", valorPorKW)\n",
        "    Escreva(\"O valor total a ser pago pelo consumo da residência é: \", valorTotalSemDesconto)\n",
        "    Escreva(\"O novo valor a ser pago pela residência com desconto de 10% é: \", valorTotalComDesconto)\n"
      ]
    },
    {
      "cell_type": "markdown",
      "metadata": {
        "id": "RztFVvw9mENf"
      },
      "source": [
        "// Questão 5 - Conta de água\n",
        "\n",
        "// Declaração de variáveis\n",
        "\n",
        "    int NumConta\n",
        "    float Consumo\n",
        "    string TipoConsumidor\n",
        "\n",
        "// Entrada dos dados\n",
        "\n",
        "    imprima(\"Digite o número da conta: \")\n",
        "    leia(NumConta)\n",
        "    \n",
        "    imprima(\"Digite o consumo em metros cúbicos: \")\n",
        "    leia(Consumo)\n",
        "    \n",
        "    imprima(\"Digite o tipo de consumidor: \")\n",
        "    leia(TipoConsumidor)\n",
        "\n",
        "//\n"
      ]
    },
    {
      "cell_type": "markdown",
      "metadata": {
        "id": "hNQUehmk5qnA"
      },
      "source": [
        "// Questão 6 - Conversão de temperatura\n",
        "\n",
        "// Entrada do número de conversões\n",
        "\n",
        "  Ler NC\n",
        "\n",
        "  n <- 0\n",
        "    \n",
        "  Enquanto ( n < NC)\n",
        "\n",
        "    // Entrada da temperatura em Fahrenheit\n",
        "      Ler F\n",
        "        \n",
        "    // Cálculo da temperatura em Celsius\n",
        "      \n",
        "      C <- 5 * (F - 32) / 9\n",
        "        \n",
        "    // Saída da temperatura original e convertida\n",
        "      \n",
        "      Escrever(\"Temperatura em Fahrenheit: \", F, \" Fahrenheit equivale a \", C, \" Celsius\")\n",
        "\n",
        "      n = n + 1\n",
        "    Fim Enquanto\n",
        "\n",
        "Fim Algoritmo"
      ]
    },
    {
      "cell_type": "markdown",
      "metadata": {
        "id": "Rnlpv7IE_w2M"
      },
      "source": [
        "// Questão 7 - Conversões para o Sistema Métrico\n",
        "\n",
        "var TF, TC, Ch float\n",
        "\n",
        "  Ler TF\n",
        "  Ler Ch\n",
        "\n",
        "// Conversão da Temperatura em Celsius\n",
        "\n",
        "  TC = (5*TF - 160)/9\n",
        "\n",
        "// Conversão da quantidade de chuva\n",
        "\n",
        "  Ch = Ch*25,4\n",
        "\n",
        "// Saída das conversões\n",
        "\n",
        "  Escrever(\"O VALOR EM CELSIUS = \", TC \\n)\n",
        "  Escrever(\"A QUANTIDADE DE CHUVA E = \", Ch)\n",
        "\n",
        "fimalgoritmo"
      ]
    },
    {
      "cell_type": "markdown",
      "metadata": {
        "id": "2d-skeJ6GYVF"
      },
      "source": [
        "// Questão 8 - Custo da lata de cerveja\n",
        "\n",
        "// Declaração das variáveis\n",
        "\n",
        "  real raio, altura, custoaluminiom2, areacirculo, arealateral, custototal\n",
        "\n",
        "// Definição da constante\n",
        "\n",
        "  constante pi = 3,14159\n",
        "\n",
        "// Entrada dos dados\n",
        "\n",
        "  Escreva(\"Digite o raio da lata (em metros): \\n\")\n",
        "  Ler raio\n",
        "\n",
        "  Escreva(\"Digite a altura da lata (em metros): \")\n",
        "  Ler altura\n",
        "\n",
        "// Cálculo das áreas\n",
        "\n",
        "  areacirculo <- pi * raio^2\n",
        "  arealateral <- 2*pi*raio*altura\n",
        "  areatotal <- 2*areacirculo + arealateral\n",
        "\n",
        "// Cálculo do custo total\n",
        "\n",
        "  custototal <- areatotal*custoaluminiom2\n",
        "\n",
        "// Saída de dados\n",
        "\n",
        "  Escreva(\"O VALOR DO CUSTO E = \", custototal)\n",
        "\n",
        "fimalgoritmo"
      ]
    },
    {
      "cell_type": "markdown",
      "metadata": {
        "id": "zFJUaXwsI5Fb"
      },
      "source": [
        "// Questão 9 - Cálculo do Delta na Equação de Báskara\n",
        "\n",
        "// Declaração de variáveis\n",
        "    real x\n"
      ]
    }
  ],
  "metadata": {
    "colab": {
      "provenance": []
    },
    "kernelspec": {
      "display_name": "Python 3",
      "name": "python3"
    },
    "language_info": {
      "name": "python"
    }
  },
  "nbformat": 4,
  "nbformat_minor": 0
}
